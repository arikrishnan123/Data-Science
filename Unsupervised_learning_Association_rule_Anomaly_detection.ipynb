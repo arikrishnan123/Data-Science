{
  "nbformat": 4,
  "nbformat_minor": 0,
  "metadata": {
    "colab": {
      "provenance": [],
      "authorship_tag": "ABX9TyMFuZUbrisudM34jafg3XWO",
      "include_colab_link": true
    },
    "kernelspec": {
      "name": "python3",
      "display_name": "Python 3"
    },
    "language_info": {
      "name": "python"
    }
  },
  "cells": [
    {
      "cell_type": "markdown",
      "metadata": {
        "id": "view-in-github",
        "colab_type": "text"
      },
      "source": [
        "<a href=\"https://colab.research.google.com/github/arikrishnan123/Data-Science/blob/main/Unsupervised_learning_Association_rule_Anomaly_detection.ipynb\" target=\"_parent\"><img src=\"https://colab.research.google.com/assets/colab-badge.svg\" alt=\"Open In Colab\"/></a>"
      ]
    },
    {
      "cell_type": "markdown",
      "source": [
        "Apriori Algorithms"
      ],
      "metadata": {
        "id": "6vSZIDUziLM_"
      }
    },
    {
      "cell_type": "code",
      "source": [
        "\n",
        "import pandas as pd\n",
        "\n",
        "from mlxtend.preprocessing import TransactionEncoder\n",
        "\n",
        "transactions = [\n",
        "\n",
        " ['Milk', 'Bread', 'Butter'],\n",
        "\n",
        " ['Milk', 'Diaper', 'Beer'],\n",
        "\n",
        " ['Bread', 'Butter'],\n",
        "\n",
        " ['Milk', 'Bread', 'Butter', 'Eggs']\n",
        "\n",
        "]\n",
        "\n",
        "te = TransactionEncoder()\n",
        "\n",
        "te_array = te.fit(transactions).transform(transactions)\n",
        "\n",
        "df = pd.DataFrame(te_array, columns=te.columns_)\n",
        "\n",
        "\n",
        "from mlxtend.frequent_patterns import apriori, association_rules\n",
        "\n",
        "frequent_itemsets = apriori(df, min_support=0.5, use_colnames=True)\n",
        "\n",
        "# Generate association rules\n",
        "rules = association_rules(frequent_itemsets, metric=\"lift\", min_threshold=1)\n",
        "\n",
        "print(rules[['antecedents', 'consequents', 'support', 'confidence', 'lift']])"
      ],
      "metadata": {
        "colab": {
          "base_uri": "https://localhost:8080/"
        },
        "id": "xecWacXViVhK",
        "outputId": "e375b29a-a12a-48ff-c6c0-642a4a29233f"
      },
      "execution_count": 8,
      "outputs": [
        {
          "output_type": "stream",
          "name": "stdout",
          "text": [
            "      antecedents     consequents  support  confidence      lift\n",
            "0         (Bread)        (Butter)     0.75    1.000000  1.333333\n",
            "1        (Butter)         (Bread)     0.75    1.000000  1.333333\n",
            "2   (Bread, Milk)        (Butter)     0.50    1.000000  1.333333\n",
            "3  (Butter, Milk)         (Bread)     0.50    1.000000  1.333333\n",
            "4         (Bread)  (Butter, Milk)     0.50    0.666667  1.333333\n",
            "5        (Butter)   (Bread, Milk)     0.50    0.666667  1.333333\n"
          ]
        }
      ]
    },
    {
      "cell_type": "markdown",
      "source": [
        "FP-Growth algorithms"
      ],
      "metadata": {
        "id": "42qm4MPkif7e"
      }
    },
    {
      "cell_type": "code",
      "source": [
        "import pandas as pd\n",
        "from mlxtend.preprocessing import TransactionEncoder\n",
        "transactions = [\n",
        "    ['Milk', 'Bread', 'Butter'],\n",
        "    ['Milk', 'Diaper', 'Beer'],\n",
        "    ['Bread', 'Butter'],\n",
        "    ['Milk', 'Bread', 'Butter', 'Eggs']\n",
        "]\n",
        "te = TransactionEncoder()\n",
        "te_array = te.fit(transactions).transform(transactions)\n",
        "df = pd.DataFrame(te_array, columns=te.columns_)\n",
        "from mlxtend.frequent_patterns import fpgrowth\n",
        "frequent_itemsets_fp = fpgrowth(df, min_support=0.5, use_colnames=True)\n",
        "rules_fp = association_rules(frequent_itemsets_fp, metric=\"lift\", min_threshold=1)\n",
        "print(rules_fp[['antecedents', 'consequents', 'support', 'confidence', 'lift']])"
      ],
      "metadata": {
        "colab": {
          "base_uri": "https://localhost:8080/"
        },
        "id": "9ArXbUtIiro3",
        "outputId": "b4c4e4bb-6ce0-4751-aa0d-c74db521274a"
      },
      "execution_count": 2,
      "outputs": [
        {
          "output_type": "stream",
          "name": "stdout",
          "text": [
            "      antecedents     consequents  support  confidence      lift\n",
            "0         (Bread)        (Butter)     0.75    1.000000  1.333333\n",
            "1        (Butter)         (Bread)     0.75    1.000000  1.333333\n",
            "2   (Bread, Milk)        (Butter)     0.50    1.000000  1.333333\n",
            "3  (Butter, Milk)         (Bread)     0.50    1.000000  1.333333\n",
            "4         (Bread)  (Butter, Milk)     0.50    0.666667  1.333333\n",
            "5        (Butter)   (Bread, Milk)     0.50    0.666667  1.333333\n"
          ]
        }
      ]
    },
    {
      "cell_type": "markdown",
      "source": [
        "Implement Association rules"
      ],
      "metadata": {
        "id": "7zlpNkGLi0SK"
      }
    },
    {
      "cell_type": "code",
      "source": [
        "\n",
        "import pandas as pd\n",
        "from mlxtend.preprocessing import TransactionEncoder\n",
        "from mlxtend.frequent_patterns import apriori, fpgrowth, association_rules\n",
        "transactions = [\n",
        "     ['Milk', 'Bread', 'Butter'],\n",
        "        ['Milk', 'Diaper', 'Beer'],\n",
        "     ['Bread', 'Butter'],\n",
        "      ['Milk', 'Bread', 'Butter', 'Eggs']\n",
        "]\n",
        "te = TransactionEncoder()\n",
        "te_array = te.fit(transactions).transform(transactions)\n",
        "df = pd.DataFrame(te_array, columns=te.columns_)\n",
        "\n",
        "# Apriori\n",
        "frequent_itemsets_apriori = apriori(df, min_support=0.5, use_colnames=True)\n",
        "rules_apriori = association_rules(frequent_itemsets_apriori, metric=\"lift\", min_threshold=1)\n",
        "print(\"\\n=== Apriori Rules ===\")\n",
        "print(rules_apriori[['antecedents', 'consequents', 'support', 'confidence', 'lift']])\n",
        "\n",
        "# FP-Growth\n",
        "frequent_itemsets_fpgrowth = fpgrowth(df, min_support=0.5, use_colnames=True)\n",
        "rules_fpgrowth = association_rules(frequent_itemsets_fpgrowth, metric=\"lift\", min_threshold=1)\n",
        "print(\"\\n=== FP-Growth Rules ===\")\n",
        "print(rules_fpgrowth[['antecedents', 'consequents', 'support', 'confidence', 'lift']])"
      ],
      "metadata": {
        "colab": {
          "base_uri": "https://localhost:8080/"
        },
        "id": "RVziucsPjAqB",
        "outputId": "08268646-9686-49e1-ba4e-3a94549a5cea"
      },
      "execution_count": 3,
      "outputs": [
        {
          "output_type": "stream",
          "name": "stdout",
          "text": [
            "\n",
            "=== Apriori Rules ===\n",
            "      antecedents     consequents  support  confidence      lift\n",
            "0         (Bread)        (Butter)     0.75    1.000000  1.333333\n",
            "1        (Butter)         (Bread)     0.75    1.000000  1.333333\n",
            "2   (Bread, Milk)        (Butter)     0.50    1.000000  1.333333\n",
            "3  (Butter, Milk)         (Bread)     0.50    1.000000  1.333333\n",
            "4         (Bread)  (Butter, Milk)     0.50    0.666667  1.333333\n",
            "5        (Butter)   (Bread, Milk)     0.50    0.666667  1.333333\n",
            "\n",
            "=== FP-Growth Rules ===\n",
            "      antecedents     consequents  support  confidence      lift\n",
            "0         (Bread)        (Butter)     0.75    1.000000  1.333333\n",
            "1        (Butter)         (Bread)     0.75    1.000000  1.333333\n",
            "2   (Bread, Milk)        (Butter)     0.50    1.000000  1.333333\n",
            "3  (Butter, Milk)         (Bread)     0.50    1.000000  1.333333\n",
            "4         (Bread)  (Butter, Milk)     0.50    0.666667  1.333333\n",
            "5        (Butter)   (Bread, Milk)     0.50    0.666667  1.333333\n"
          ]
        }
      ]
    },
    {
      "cell_type": "markdown",
      "source": [
        "Anomaly detection"
      ],
      "metadata": {
        "id": "sLvAUsW-jPkB"
      }
    },
    {
      "cell_type": "markdown",
      "source": [
        "Z-Score / Statistical Methods"
      ],
      "metadata": {
        "id": "RWFet8lhjRDF"
      }
    },
    {
      "cell_type": "code",
      "source": [
        "import numpy as np\n",
        "from scipy.stats import zscore\n",
        "data = [10, 12, 11, 13, 12, 11, 100]  # 100 is an anomaly\n",
        "z_scores = zscore(data)\n",
        "anomalies = [x for x, z in zip(data, z_scores) if abs(z) > 2]\n",
        "print(anomalies)"
      ],
      "metadata": {
        "colab": {
          "base_uri": "https://localhost:8080/"
        },
        "id": "9iX7N157jaV_",
        "outputId": "33384db7-a3ea-47a6-80e7-8965138a35e4"
      },
      "execution_count": 4,
      "outputs": [
        {
          "output_type": "stream",
          "name": "stdout",
          "text": [
            "[100]\n"
          ]
        }
      ]
    },
    {
      "cell_type": "markdown",
      "source": [
        "Isolation Forest"
      ],
      "metadata": {
        "id": "vn8BrExjjfu4"
      }
    },
    {
      "cell_type": "code",
      "source": [
        "from sklearn.ensemble import IsolationForest\n",
        "X = [[10], [12], [11], [13], [100]]  # 100 is an anomaly\n",
        "clf = IsolationForest(contamination=0.2)\n",
        "clf.fit(X)\n",
        "pred = clf.predict(X)\n",
        "print(pred)  # -1 = anomaly, 1 = normal"
      ],
      "metadata": {
        "colab": {
          "base_uri": "https://localhost:8080/"
        },
        "id": "AFZf8Jp3jjjN",
        "outputId": "5dfbcc08-ebbf-45aa-cbd7-e0990d3152be"
      },
      "execution_count": 5,
      "outputs": [
        {
          "output_type": "stream",
          "name": "stdout",
          "text": [
            "[ 1  1  1  1 -1]\n"
          ]
        }
      ]
    },
    {
      "cell_type": "markdown",
      "source": [
        "One-Class SVM"
      ],
      "metadata": {
        "id": "C5G-Wczbjsib"
      }
    },
    {
      "cell_type": "code",
      "source": [
        "from sklearn.svm import OneClassSVM\n",
        "X = [[10], [12], [11], [13], [100]]\n",
        "clf = OneClassSVM(nu=0.1, kernel=\"rbf\", gamma=0.1)\n",
        "clf.fit(X)\n",
        "pred = clf.predict(X)\n",
        "print(pred)  # -1 = anomaly, 1 = normal"
      ],
      "metadata": {
        "colab": {
          "base_uri": "https://localhost:8080/"
        },
        "id": "KGR6TnGMjw-J",
        "outputId": "b37d7915-9e88-4e15-c6c8-03d3f7a08c63"
      },
      "execution_count": 6,
      "outputs": [
        {
          "output_type": "stream",
          "name": "stdout",
          "text": [
            "[-1  1  1  1  1]\n"
          ]
        }
      ]
    },
    {
      "cell_type": "markdown",
      "source": [
        "Autoencoders (Deep Learning)"
      ],
      "metadata": {
        "id": "eHWQd0bRj2eQ"
      }
    },
    {
      "cell_type": "markdown",
      "source": [
        "Implement Anomaly Detection"
      ],
      "metadata": {
        "id": "AoCX18ocj-Yr"
      }
    },
    {
      "cell_type": "code",
      "source": [
        "import pandas as pd\n",
        "from sklearn.ensemble import IsolationForest\n",
        "data = [[10], [12], [11], [13], [12], [11], [14], [15], [100], [110]]  # 100 and 110 are outliers\n",
        "df = pd.DataFrame(data, columns=[\"Value\"])\n",
        "model = IsolationForest(contamination=0.2, random_state=42)\n",
        "model.fit(df)\n",
        "df[\"Anomaly\"] = model.predict(df)\n",
        "df[\"Anomaly_Label\"] = df[\"Anomaly\"].map({1: \"Normal\", -1: \"Anomaly\"})\n",
        "print(df)"
      ],
      "metadata": {
        "colab": {
          "base_uri": "https://localhost:8080/"
        },
        "id": "4Z_wmgDSkALZ",
        "outputId": "fcf738fc-f815-451d-ba04-d0547dc04355"
      },
      "execution_count": 7,
      "outputs": [
        {
          "output_type": "stream",
          "name": "stdout",
          "text": [
            "   Value  Anomaly Anomaly_Label\n",
            "0     10        1        Normal\n",
            "1     12        1        Normal\n",
            "2     11        1        Normal\n",
            "3     13        1        Normal\n",
            "4     12        1        Normal\n",
            "5     11        1        Normal\n",
            "6     14        1        Normal\n",
            "7     15        1        Normal\n",
            "8    100       -1       Anomaly\n",
            "9    110       -1       Anomaly\n"
          ]
        }
      ]
    }
  ]
}